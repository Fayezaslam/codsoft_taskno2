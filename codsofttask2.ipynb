{
 "cells": [
  {
   "cell_type": "markdown",
   "id": "8738e84f",
   "metadata": {
    "id": "gALhM3Z67nEZ",
    "papermill": {
     "duration": 0.004622,
     "end_time": "2023-08-14T03:28:10.120744",
     "exception": false,
     "start_time": "2023-08-14T03:28:10.116122",
     "status": "completed"
    },
    "tags": []
   },
   "source": [
    "<h1> Import Nacessary Libary"
   ]
  },
  {
   "cell_type": "code",
   "execution_count": null,
   "id": "6d6ab75e",
   "metadata": {},
   "outputs": [],
   "source": [
    "!pip install imblearn"
   ]
  },
  {
   "cell_type": "code",
   "execution_count": null,
   "id": "eeb5f47e",
   "metadata": {
    "execution": {
     "iopub.execute_input": "2023-08-14T03:28:10.130514Z",
     "iopub.status.busy": "2023-08-14T03:28:10.129670Z",
     "iopub.status.idle": "2023-08-14T03:28:11.873438Z",
     "shell.execute_reply": "2023-08-14T03:28:11.872017Z"
    },
    "id": "VQ1xdr4R7n1o",
    "papermill": {
     "duration": 1.751434,
     "end_time": "2023-08-14T03:28:11.875953",
     "exception": false,
     "start_time": "2023-08-14T03:28:10.124519",
     "status": "completed"
    },
    "tags": []
   },
   "outputs": [],
   "source": [
    "import pandas as pd\n",
    "from sklearn.preprocessing import StandardScaler\n",
    "from sklearn.model_selection import train_test_split\n",
    "from sklearn.metrics import classification_report, roc_auc_score\n",
    "import pandas as pd\n",
    "from sklearn.ensemble import RandomForestClassifier\n",
    "from imblearn.over_sampling import SMOTE\n",
    "from sklearn.model_selection import train_test_split\n",
    "from sklearn.preprocessing import StandardScaler"
   ]
  },
  {
   "cell_type": "markdown",
   "id": "caa67aea",
   "metadata": {
    "id": "1cUxu7UM70jO",
    "papermill": {
     "duration": 0.003583,
     "end_time": "2023-08-14T03:28:11.883752",
     "exception": false,
     "start_time": "2023-08-14T03:28:11.880169",
     "status": "completed"
    },
    "tags": []
   },
   "source": [
    "<h1>Load Data from CSV file"
   ]
  },
  {
   "cell_type": "code",
   "execution_count": null,
   "id": "8e61bb90",
   "metadata": {
    "execution": {
     "iopub.execute_input": "2023-08-14T03:28:11.893492Z",
     "iopub.status.busy": "2023-08-14T03:28:11.893129Z",
     "iopub.status.idle": "2023-08-14T03:28:22.338017Z",
     "shell.execute_reply": "2023-08-14T03:28:22.336935Z"
    },
    "id": "aYWXYOXfsL7U",
    "outputId": "293efafb-aedc-4cbc-bcbb-15720d8dc9ae",
    "papermill": {
     "duration": 10.452298,
     "end_time": "2023-08-14T03:28:22.339760",
     "exception": false,
     "start_time": "2023-08-14T03:28:11.887462",
     "status": "completed"
    },
    "tags": []
   },
   "outputs": [],
   "source": [
    "train_df=pd.read_csv(\"fraudTrain.csv\")\n",
    "train_df.head(5)"
   ]
  },
  {
   "cell_type": "code",
   "execution_count": null,
   "id": "b61bd747",
   "metadata": {
    "execution": {
     "iopub.execute_input": "2023-08-14T03:28:22.349756Z",
     "iopub.status.busy": "2023-08-14T03:28:22.349376Z",
     "iopub.status.idle": "2023-08-14T03:28:26.628293Z",
     "shell.execute_reply": "2023-08-14T03:28:26.626980Z"
    },
    "id": "uRvvSnVBsb7N",
    "outputId": "d73778fd-a726-4797-f346-c4ad352b406d",
    "papermill": {
     "duration": 4.286769,
     "end_time": "2023-08-14T03:28:26.630784",
     "exception": false,
     "start_time": "2023-08-14T03:28:22.344015",
     "status": "completed"
    },
    "tags": []
   },
   "outputs": [],
   "source": [
    "test_df=pd.read_csv(\"fraudTest.csv\")\n",
    "test_df.head(4)"
   ]
  },
  {
   "cell_type": "code",
   "execution_count": null,
   "id": "13b6b588",
   "metadata": {
    "execution": {
     "iopub.execute_input": "2023-08-14T03:28:26.641424Z",
     "iopub.status.busy": "2023-08-14T03:28:26.641053Z",
     "iopub.status.idle": "2023-08-14T03:28:27.055664Z",
     "shell.execute_reply": "2023-08-14T03:28:27.053982Z"
    },
    "id": "25bHDwHgszXf",
    "papermill": {
     "duration": 0.422644,
     "end_time": "2023-08-14T03:28:27.058142",
     "exception": false,
     "start_time": "2023-08-14T03:28:26.635498",
     "status": "completed"
    },
    "tags": []
   },
   "outputs": [],
   "source": [
    "combined_df=pd.concat([train_df, test_df], ignore_index=True)\n",
    "data=combined_df"
   ]
  },
  {
   "cell_type": "markdown",
   "id": "94fe41f8",
   "metadata": {
    "id": "2jJxbDt28-ip",
    "papermill": {
     "duration": 0.004096,
     "end_time": "2023-08-14T03:28:27.067035",
     "exception": false,
     "start_time": "2023-08-14T03:28:27.062939",
     "status": "completed"
    },
    "tags": []
   },
   "source": [
    "<h1>Class Labels"
   ]
  },
  {
   "cell_type": "code",
   "execution_count": null,
   "id": "a455cf9b",
   "metadata": {
    "execution": {
     "iopub.execute_input": "2023-08-14T03:28:27.077591Z",
     "iopub.status.busy": "2023-08-14T03:28:27.077206Z",
     "iopub.status.idle": "2023-08-14T03:28:27.815366Z",
     "shell.execute_reply": "2023-08-14T03:28:27.814131Z"
    },
    "id": "-bW8bz2l8_Fx",
    "outputId": "733ff49a-7d17-4016-ca9b-1bc2ff2a404e",
    "papermill": {
     "duration": 0.74591,
     "end_time": "2023-08-14T03:28:27.817257",
     "exception": false,
     "start_time": "2023-08-14T03:28:27.071347",
     "status": "completed"
    },
    "tags": []
   },
   "outputs": [],
   "source": [
    "import matplotlib.pyplot as plt\n",
    "import seaborn as sns\n",
    "plt.figure(figsize=(8, 6))\n",
    "sns.countplot(x='is_fraud',color='purple', data=data)\n",
    "plt.title('HISTOGRAM')\n",
    "plt.xlabel('Fraud')\n",
    "plt.ylabel('number')\n",
    "plt.show()"
   ]
  },
  {
   "cell_type": "markdown",
   "id": "8b45ddf7",
   "metadata": {
    "id": "r6m4G25P8CWY",
    "papermill": {
     "duration": 0.004305,
     "end_time": "2023-08-14T03:28:27.826521",
     "exception": false,
     "start_time": "2023-08-14T03:28:27.822216",
     "status": "completed"
    },
    "tags": []
   },
   "source": [
    "<h2>Data Preprocessing"
   ]
  },
  {
   "cell_type": "code",
   "execution_count": null,
   "id": "05f0862d",
   "metadata": {
    "execution": {
     "iopub.execute_input": "2023-08-14T03:28:27.837260Z",
     "iopub.status.busy": "2023-08-14T03:28:27.836839Z",
     "iopub.status.idle": "2023-08-14T03:28:29.202827Z",
     "shell.execute_reply": "2023-08-14T03:28:29.201475Z"
    },
    "papermill": {
     "duration": 1.374255,
     "end_time": "2023-08-14T03:28:29.205266",
     "exception": false,
     "start_time": "2023-08-14T03:28:27.831011",
     "status": "completed"
    },
    "tags": []
   },
   "outputs": [],
   "source": [
    "data['trans_date_trans_time'] = pd.to_datetime(data['trans_date_trans_time'])\n",
    "data['hour'] = data['trans_date_trans_time'].dt.hour\n",
    "data['day_of_week'] = data['trans_date_trans_time'].dt.dayofweek\n",
    "data['month'] = data['trans_date_trans_time'].dt.month\n",
    "data = data.drop(['Unnamed: 0', 'trans_date_trans_time', 'merchant', 'first', 'last', 'street', 'city', 'state', 'zip', 'job', 'dob', 'trans_num'], axis=1)\n",
    "data = pd.get_dummies(data, columns=['category'], drop_first=True)\n",
    "\n",
    "\n",
    "data['gender'] = data['gender'].map({'M': 0, 'F': 1})\n",
    "\n",
    "\n",
    "X = data.drop(['is_fraud'], axis=1)\n",
    "y = data['is_fraud']\n",
    "scaler = StandardScaler()\n",
    "numerical_columns = ['amt', 'lat', 'long', 'city_pop', 'unix_time', 'merch_lat', 'merch_long']\n",
    "X[numerical_columns] = scaler.fit_transform(X[numerical_columns])"
   ]
  },
  {
   "cell_type": "markdown",
   "id": "311b24e8",
   "metadata": {
    "id": "bhOBLP7L8oXw",
    "papermill": {
     "duration": 0.00456,
     "end_time": "2023-08-14T03:28:29.216126",
     "exception": false,
     "start_time": "2023-08-14T03:28:29.211566",
     "status": "completed"
    },
    "tags": []
   },
   "source": [
    "<h3>Training of Model"
   ]
  },
  {
   "cell_type": "code",
   "execution_count": null,
   "id": "df840a65",
   "metadata": {
    "execution": {
     "iopub.execute_input": "2023-08-14T03:28:29.227249Z",
     "iopub.status.busy": "2023-08-14T03:28:29.226816Z",
     "iopub.status.idle": "2023-08-14T03:34:48.804352Z",
     "shell.execute_reply": "2023-08-14T03:34:48.803466Z"
    },
    "id": "we-deNy835Xm",
    "outputId": "460558eb-3a1e-4f99-fb6c-fe2570e92409",
    "papermill": {
     "duration": 379.585251,
     "end_time": "2023-08-14T03:34:48.806190",
     "exception": false,
     "start_time": "2023-08-14T03:28:29.220939",
     "status": "completed"
    },
    "tags": []
   },
   "outputs": [],
   "source": [
    "\n",
    "X_train, X_temp, y_train, y_temp = train_test_split(X, y, test_size=0.3, random_state=42)\n",
    "X_val, X_test, y_val, y_test = train_test_split(X_temp, y_temp, test_size=0.5, random_state=42)\n",
    "\n",
    "\n",
    "smote = SMOTE(sampling_strategy=0.5, random_state=42)\n",
    "X_train_resampled, y_train_resampled = smote.fit_resample(X_train, y_train)\n",
    "\n",
    "# Initialize and train Random Forest classifier with parallel processing\n",
    "rf_classifier = RandomForestClassifier(n_estimators=100, n_jobs=-1, random_state=42)\n",
    "rf_classifier.fit(X_train_resampled, y_train_resampled)\n",
    "\n",
    "\n",
    "# Make predictions on the validation set\n",
    "y_pred = rf_classifier.predict(X_val)\n",
    "\n",
    "# Evaluate the model\n",
    "print(\"Classification Report:\")\n",
    "print(classification_report(y_val, y_pred))\n",
    "\n",
    "print(\"ROC-AUC Score:\", roc_auc_score(y_val, y_pred))\n",
    "\n"
   ]
  },
  {
   "cell_type": "code",
   "execution_count": null,
   "id": "773de498",
   "metadata": {
    "execution": {
     "iopub.execute_input": "2023-08-14T03:34:48.818217Z",
     "iopub.status.busy": "2023-08-14T03:34:48.817123Z",
     "iopub.status.idle": "2023-08-14T03:34:49.237290Z",
     "shell.execute_reply": "2023-08-14T03:34:49.235932Z"
    },
    "papermill": {
     "duration": 0.428251,
     "end_time": "2023-08-14T03:34:49.239361",
     "exception": false,
     "start_time": "2023-08-14T03:34:48.811110",
     "status": "completed"
    },
    "tags": []
   },
   "outputs": [],
   "source": [
    "from collections import Counter\n",
    "print(\"Original Class Distribution:\")\n",
    "print(Counter(y_train))\n",
    "print(\"Resampled Class Distribution:\")\n",
    "print(Counter(y_train_resampled))\n"
   ]
  },
  {
   "cell_type": "code",
   "execution_count": null,
   "id": "f63ad4de",
   "metadata": {
    "execution": {
     "iopub.execute_input": "2023-08-14T03:34:49.250931Z",
     "iopub.status.busy": "2023-08-14T03:34:49.250540Z",
     "iopub.status.idle": "2023-08-14T03:34:49.896368Z",
     "shell.execute_reply": "2023-08-14T03:34:49.895217Z"
    },
    "papermill": {
     "duration": 0.654371,
     "end_time": "2023-08-14T03:34:49.898734",
     "exception": false,
     "start_time": "2023-08-14T03:34:49.244363",
     "status": "completed"
    },
    "tags": []
   },
   "outputs": [],
   "source": [
    "import matplotlib.pyplot as plt\n",
    "from collections import Counter\n",
    "\n",
    "original_distribution = Counter(y_train)\n",
    "resampled_distribution = Counter(y_train_resampled)\n",
    "class_labels = list(original_distribution.keys())\n",
    "\n",
    "\n",
    "original_counts = [original_distribution[label] for label in class_labels]\n",
    "resampled_counts = [resampled_distribution[label] for label in class_labels]\n",
    "\n",
    "plt.figure(figsize=(10, 6))\n",
    "bar_width = 0.4\n",
    "index = range(len(class_labels))\n",
    "\n",
    "plt.bar(index, original_counts, width=bar_width, color='b', label='Original', align='center')\n",
    "plt.bar(index, resampled_counts, width=bar_width, color='r', label='Resampled', alpha=0.7, align='edge')\n",
    "\n",
    "plt.xlabel('Class')\n",
    "plt.ylabel('Count')\n",
    "plt.title('Class Distribution Before and After SMOTE')\n",
    "plt.xticks(index, class_labels)\n",
    "plt.legend()\n",
    "plt.tight_layout()\n",
    "\n",
    "\n",
    "for i, count in enumerate(original_counts):\n",
    "    plt.text(i, count + 20, str(count), ha='center', va='bottom', fontsize=10, color='black')\n",
    "\n",
    "for i, count in enumerate(resampled_counts):\n",
    "    plt.text(i + bar_width, count + 20, str(count), ha='center', va='bottom', fontsize=10, color='black')\n",
    "\n",
    "plt.show()"
   ]
  },
  {
   "cell_type": "code",
   "execution_count": null,
   "id": "de703d93",
   "metadata": {
    "execution": {
     "iopub.execute_input": "2023-08-14T03:34:49.911491Z",
     "iopub.status.busy": "2023-08-14T03:34:49.911134Z",
     "iopub.status.idle": "2023-08-14T03:34:54.283389Z",
     "shell.execute_reply": "2023-08-14T03:34:54.282543Z"
    },
    "id": "1c0BDf3rCNPb",
    "outputId": "951a90cc-d25e-431f-f09e-dc630d657744",
    "papermill": {
     "duration": 4.381306,
     "end_time": "2023-08-14T03:34:54.285759",
     "exception": false,
     "start_time": "2023-08-14T03:34:49.904453",
     "status": "completed"
    },
    "tags": []
   },
   "outputs": [],
   "source": [
    "plt.figure(figsize=(32, 20))\n",
    "correlation_matrix = data.corr()\n",
    "sns.heatmap(correlation_matrix, annot=True, cmap='coolwarm')\n",
    "plt.title('Correlation Heatmap')\n",
    "plt.show()\n"
   ]
  },
  {
   "cell_type": "code",
   "execution_count": null,
   "id": "caa97787",
   "metadata": {
    "execution": {
     "iopub.execute_input": "2023-08-14T03:34:54.308059Z",
     "iopub.status.busy": "2023-08-14T03:34:54.307494Z",
     "iopub.status.idle": "2023-08-14T03:34:54.700933Z",
     "shell.execute_reply": "2023-08-14T03:34:54.699777Z"
    },
    "id": "4k2gh0_fCYAM",
    "outputId": "faad5d43-ad6a-4938-a311-928a52afc79f",
    "papermill": {
     "duration": 0.407414,
     "end_time": "2023-08-14T03:34:54.703411",
     "exception": false,
     "start_time": "2023-08-14T03:34:54.295997",
     "status": "completed"
    },
    "tags": []
   },
   "outputs": [],
   "source": [
    "feature_importances = rf_classifier.feature_importances_\n",
    "sorted_idx = feature_importances.argsort()\n",
    "\n",
    "plt.figure(figsize=(10, 8))\n",
    "plt.barh(range(X_train.shape[1]), feature_importances[sorted_idx], align='center')\n",
    "plt.yticks(range(X_train.shape[1]), X_train.columns[sorted_idx])\n",
    "plt.xlabel('Feature Importance')\n",
    "plt.ylabel('Feature')\n",
    "plt.title('Feature Importance Plot')\n",
    "plt.show()\n"
   ]
  },
  {
   "cell_type": "code",
   "execution_count": null,
   "id": "eb14325d",
   "metadata": {
    "execution": {
     "iopub.execute_input": "2023-08-14T03:34:54.727277Z",
     "iopub.status.busy": "2023-08-14T03:34:54.726863Z",
     "iopub.status.idle": "2023-08-14T03:34:54.942700Z",
     "shell.execute_reply": "2023-08-14T03:34:54.941656Z"
    },
    "id": "wDw8iN1gCc6b",
    "outputId": "1526bd48-1051-4afa-f9f3-469896351fd9",
    "papermill": {
     "duration": 0.23088,
     "end_time": "2023-08-14T03:34:54.945225",
     "exception": false,
     "start_time": "2023-08-14T03:34:54.714345",
     "status": "completed"
    },
    "tags": []
   },
   "outputs": [],
   "source": [
    "from sklearn.metrics import roc_curve, auc\n",
    "\n",
    "fpr, tpr, _ = roc_curve(y_val, y_pred)\n",
    "roc_auc = auc(fpr, tpr)\n",
    "\n",
    "plt.figure(figsize=(8, 6))\n",
    "plt.plot(fpr, tpr, color='darkorange', lw=2, label='ROC curve (area = %0.2f)' % roc_auc)\n",
    "plt.plot([0, 1], [0, 1], color='navy', lw=2, linestyle='--')\n",
    "plt.xlim([0.0, 1.0])\n",
    "plt.ylim([0.0, 1.05])\n",
    "plt.xlabel('False Positive Rate')\n",
    "plt.ylabel('True Positive Rate')\n",
    "plt.title('Receiver Operating Characteristic (ROC)')\n",
    "plt.legend(loc='lower right')\n",
    "plt.show()\n"
   ]
  }
 ],
 "metadata": {
  "kernelspec": {
   "display_name": "Python 3 (ipykernel)",
   "language": "python",
   "name": "python3"
  },
  "language_info": {
   "codemirror_mode": {
    "name": "ipython",
    "version": 3
   },
   "file_extension": ".py",
   "mimetype": "text/x-python",
   "name": "python",
   "nbconvert_exporter": "python",
   "pygments_lexer": "ipython3",
   "version": "3.9.7"
  },
  "papermill": {
   "default_parameters": {},
   "duration": 414.371096,
   "end_time": "2023-08-14T03:34:56.281400",
   "environment_variables": {},
   "exception": null,
   "input_path": "__notebook__.ipynb",
   "output_path": "__notebook__.ipynb",
   "parameters": {},
   "start_time": "2023-08-14T03:28:01.910304",
   "version": "2.4.0"
  }
 },
 "nbformat": 4,
 "nbformat_minor": 5
}
